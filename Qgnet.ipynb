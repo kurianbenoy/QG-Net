{
  "nbformat": 4,
  "nbformat_minor": 0,
  "metadata": {
    "colab": {
      "name": "Qgnet.ipynb",
      "provenance": [],
      "authorship_tag": "ABX9TyNIslGreXtJNQsfVSovRRjL",
      "include_colab_link": true
    },
    "kernelspec": {
      "name": "python3",
      "display_name": "Python 3"
    },
    "accelerator": "GPU"
  },
  "cells": [
    {
      "cell_type": "markdown",
      "metadata": {
        "id": "view-in-github",
        "colab_type": "text"
      },
      "source": [
        "<a href=\"https://colab.research.google.com/github/kurianbenoy/QG-Net/blob/master/Qgnet.ipynb\" target=\"_parent\"><img src=\"https://colab.research.google.com/assets/colab-badge.svg\" alt=\"Open In Colab\"/></a>"
      ]
    },
    {
      "cell_type": "code",
      "metadata": {
        "id": "4L_iBYGvx4o0",
        "colab_type": "code",
        "colab": {
          "base_uri": "https://localhost:8080/",
          "height": 312
        },
        "outputId": "cc0065fc-0fc9-43ec-d8b2-3c755ba986c4"
      },
      "source": [
        "! nvidia-smi"
      ],
      "execution_count": 14,
      "outputs": [
        {
          "output_type": "stream",
          "text": [
            "Thu Jun  4 15:03:50 2020       \n",
            "+-----------------------------------------------------------------------------+\n",
            "| NVIDIA-SMI 440.82       Driver Version: 418.67       CUDA Version: 10.1     |\n",
            "|-------------------------------+----------------------+----------------------+\n",
            "| GPU  Name        Persistence-M| Bus-Id        Disp.A | Volatile Uncorr. ECC |\n",
            "| Fan  Temp  Perf  Pwr:Usage/Cap|         Memory-Usage | GPU-Util  Compute M. |\n",
            "|===============================+======================+======================|\n",
            "|   0  Tesla P4            Off  | 00000000:00:04.0 Off |                    0 |\n",
            "| N/A   33C    P8     7W /  75W |      0MiB /  7611MiB |      0%      Default |\n",
            "+-------------------------------+----------------------+----------------------+\n",
            "                                                                               \n",
            "+-----------------------------------------------------------------------------+\n",
            "| Processes:                                                       GPU Memory |\n",
            "|  GPU       PID   Type   Process name                             Usage      |\n",
            "|=============================================================================|\n",
            "|  No running processes found                                                 |\n",
            "+-----------------------------------------------------------------------------+\n"
          ],
          "name": "stdout"
        }
      ]
    },
    {
      "cell_type": "code",
      "metadata": {
        "id": "v1MOEH4W7_YG",
        "colab_type": "code",
        "colab": {
          "base_uri": "https://localhost:8080/",
          "height": 34
        },
        "outputId": "8ae6a8dc-047b-432a-f948-d1ddce980b94"
      },
      "source": [
        "%cd /content/\n",
        "! rm -rf QG-Net/\n"
      ],
      "execution_count": 39,
      "outputs": [
        {
          "output_type": "stream",
          "text": [
            "/content\n"
          ],
          "name": "stdout"
        }
      ]
    },
    {
      "cell_type": "code",
      "metadata": {
        "id": "0lT-Ex9myGHx",
        "colab_type": "code",
        "colab": {
          "base_uri": "https://localhost:8080/",
          "height": 139
        },
        "outputId": "dbc312d8-acb7-4ca4-8135-015a4cfa29fd"
      },
      "source": [
        "! git clone https://github.com/kurianbenoy/QG-Net.git"
      ],
      "execution_count": 41,
      "outputs": [
        {
          "output_type": "stream",
          "text": [
            "Cloning into 'QG-Net'...\n",
            "remote: Enumerating objects: 32, done.\u001b[K\n",
            "remote: Counting objects:   3% (1/32)\u001b[K\rremote: Counting objects:   6% (2/32)\u001b[K\rremote: Counting objects:   9% (3/32)\u001b[K\rremote: Counting objects:  12% (4/32)\u001b[K\rremote: Counting objects:  15% (5/32)\u001b[K\rremote: Counting objects:  18% (6/32)\u001b[K\rremote: Counting objects:  21% (7/32)\u001b[K\rremote: Counting objects:  25% (8/32)\u001b[K\rremote: Counting objects:  28% (9/32)\u001b[K\rremote: Counting objects:  31% (10/32)\u001b[K\rremote: Counting objects:  34% (11/32)\u001b[K\rremote: Counting objects:  37% (12/32)\u001b[K\rremote: Counting objects:  40% (13/32)\u001b[K\rremote: Counting objects:  43% (14/32)\u001b[K\rremote: Counting objects:  46% (15/32)\u001b[K\rremote: Counting objects:  50% (16/32)\u001b[K\rremote: Counting objects:  53% (17/32)\u001b[K\rremote: Counting objects:  56% (18/32)\u001b[K\rremote: Counting objects:  59% (19/32)\u001b[K\rremote: Counting objects:  62% (20/32)\u001b[K\rremote: Counting objects:  65% (21/32)\u001b[K\rremote: Counting objects:  68% (22/32)\u001b[K\rremote: Counting objects:  71% (23/32)\u001b[K\rremote: Counting objects:  75% (24/32)\u001b[K\rremote: Counting objects:  78% (25/32)\u001b[K\rremote: Counting objects:  81% (26/32)\u001b[K\rremote: Counting objects:  84% (27/32)\u001b[K\rremote: Counting objects:  87% (28/32)\u001b[K\rremote: Counting objects:  90% (29/32)\u001b[K\rremote: Counting objects:  93% (30/32)\u001b[K\rremote: Counting objects:  96% (31/32)\u001b[K\rremote: Counting objects: 100% (32/32)\u001b[K\rremote: Counting objects: 100% (32/32), done.\u001b[K\n",
            "remote: Compressing objects: 100% (22/22), done.\u001b[K\n",
            "remote: Total 221 (delta 10), reused 23 (delta 9), pack-reused 189\u001b[K\n",
            "Receiving objects: 100% (221/221), 76.71 MiB | 9.85 MiB/s, done.\n",
            "Resolving deltas: 100% (68/68), done.\n"
          ],
          "name": "stdout"
        }
      ]
    },
    {
      "cell_type": "code",
      "metadata": {
        "id": "TZ4HvRH2yTGy",
        "colab_type": "code",
        "colab": {
          "base_uri": "https://localhost:8080/",
          "height": 34
        },
        "outputId": "ae6b69bf-e2c6-432d-d85e-7998582dfcee"
      },
      "source": [
        "! conda"
      ],
      "execution_count": 3,
      "outputs": [
        {
          "output_type": "stream",
          "text": [
            "/bin/bash: conda: command not found\n"
          ],
          "name": "stdout"
        }
      ]
    },
    {
      "cell_type": "code",
      "metadata": {
        "id": "zOUap69ZyZkI",
        "colab_type": "code",
        "colab": {
          "base_uri": "https://localhost:8080/",
          "height": 1000
        },
        "outputId": "c18c8e11-d826-4e5e-9b30-cdb01244fa71"
      },
      "source": [
        "# same\n",
        "!wget -c https://repo.anaconda.com/miniconda/Miniconda3-4.5.4-Linux-x86_64.sh\n",
        "!chmod +x Miniconda3-4.5.4-Linux-x86_64.sh\n",
        "!bash ./Miniconda3-4.5.4-Linux-x86_64.sh -b -f -p /usr/local\n",
        "# update 1\n",
        "!conda install -q -y --prefix /usr/local python=3.6 ujson"
      ],
      "execution_count": 4,
      "outputs": [
        {
          "output_type": "stream",
          "text": [
            "--2020-06-04 14:44:43--  https://repo.anaconda.com/miniconda/Miniconda3-4.5.4-Linux-x86_64.sh\n",
            "Resolving repo.anaconda.com (repo.anaconda.com)... 104.16.130.3, 104.16.131.3, 2606:4700::6810:8303, ...\n",
            "Connecting to repo.anaconda.com (repo.anaconda.com)|104.16.130.3|:443... connected.\n",
            "HTTP request sent, awaiting response... 200 OK\n",
            "Length: 58468498 (56M) [application/x-sh]\n",
            "Saving to: ‘Miniconda3-4.5.4-Linux-x86_64.sh’\n",
            "\n",
            "\r          Miniconda   0%[                    ]       0  --.-KB/s               \r         Miniconda3  48%[========>           ]  27.09M   135MB/s               \r        Miniconda3-  97%[==================> ]  54.15M   135MB/s               \rMiniconda3-4.5.4-Li 100%[===================>]  55.76M   136MB/s    in 0.4s    \n",
            "\n",
            "2020-06-04 14:44:43 (136 MB/s) - ‘Miniconda3-4.5.4-Linux-x86_64.sh’ saved [58468498/58468498]\n",
            "\n",
            "PREFIX=/usr/local\n",
            "installing: python-3.6.5-hc3d631a_2 ...\n",
            "Python 3.6.5 :: Anaconda, Inc.\n",
            "installing: ca-certificates-2018.03.07-0 ...\n",
            "installing: conda-env-2.6.0-h36134e3_1 ...\n",
            "installing: libgcc-ng-7.2.0-hdf63c60_3 ...\n",
            "installing: libstdcxx-ng-7.2.0-hdf63c60_3 ...\n",
            "installing: libffi-3.2.1-hd88cf55_4 ...\n",
            "installing: ncurses-6.1-hf484d3e_0 ...\n",
            "installing: openssl-1.0.2o-h20670df_0 ...\n",
            "installing: tk-8.6.7-hc745277_3 ...\n",
            "installing: xz-5.2.4-h14c3975_4 ...\n",
            "installing: yaml-0.1.7-had09818_2 ...\n",
            "installing: zlib-1.2.11-ha838bed_2 ...\n",
            "installing: libedit-3.1.20170329-h6b74fdf_2 ...\n",
            "installing: readline-7.0-ha6073c6_4 ...\n",
            "installing: sqlite-3.23.1-he433501_0 ...\n",
            "installing: asn1crypto-0.24.0-py36_0 ...\n",
            "installing: certifi-2018.4.16-py36_0 ...\n",
            "installing: chardet-3.0.4-py36h0f667ec_1 ...\n",
            "installing: idna-2.6-py36h82fb2a8_1 ...\n",
            "installing: pycosat-0.6.3-py36h0a5515d_0 ...\n",
            "installing: pycparser-2.18-py36hf9f622e_1 ...\n",
            "installing: pysocks-1.6.8-py36_0 ...\n",
            "installing: ruamel_yaml-0.15.37-py36h14c3975_2 ...\n",
            "installing: six-1.11.0-py36h372c433_1 ...\n",
            "installing: cffi-1.11.5-py36h9745a5d_0 ...\n",
            "installing: setuptools-39.2.0-py36_0 ...\n",
            "installing: cryptography-2.2.2-py36h14c3975_0 ...\n",
            "installing: wheel-0.31.1-py36_0 ...\n",
            "installing: pip-10.0.1-py36_0 ...\n",
            "installing: pyopenssl-18.0.0-py36_0 ...\n",
            "installing: urllib3-1.22-py36hbe7ace6_0 ...\n",
            "installing: requests-2.18.4-py36he2e5f8d_1 ...\n",
            "installing: conda-4.5.4-py36_0 ...\n",
            "installation finished.\n",
            "WARNING:\n",
            "    You currently have a PYTHONPATH environment variable set. This may cause\n",
            "    unexpected behavior when running the Python interpreter in Miniconda3.\n",
            "    For best results, please verify that your PYTHONPATH only points to\n",
            "    directories of packages that are compatible with the Python interpreter\n",
            "    in Miniconda3: /usr/local\n",
            "Solving environment: ...working... done\n",
            "\n",
            "## Package Plan ##\n",
            "\n",
            "  environment location: /usr/local\n",
            "\n",
            "  added / updated specs: \n",
            "    - python=3.6\n",
            "    - ujson\n",
            "\n",
            "\n",
            "The following packages will be downloaded:\n",
            "\n",
            "    package                    |            build\n",
            "    ---------------------------|-----------------\n",
            "    wheel-0.34.2               |           py36_0          49 KB\n",
            "    readline-8.0               |       h7b6447c_0         428 KB\n",
            "    libffi-3.3                 |       he6710b0_1          54 KB\n",
            "    python-3.6.10              |       h7579374_2        33.9 MB\n",
            "    certifi-2020.4.5.1         |           py36_0         159 KB\n",
            "    ujson-2.0.3                |   py36he6710b0_0          47 KB\n",
            "    setuptools-46.4.0          |           py36_0         646 KB\n",
            "    tk-8.6.8                   |       hbc83047_0         3.1 MB\n",
            "    libedit-3.1.20181209       |       hc058e9b_0         188 KB\n",
            "    xz-5.2.5                   |       h7b6447c_0         438 KB\n",
            "    _libgcc_mutex-0.1          |             main           3 KB\n",
            "    ncurses-6.2                |       he6710b0_1         1.1 MB\n",
            "    ca-certificates-2020.1.1   |                0         132 KB\n",
            "    libstdcxx-ng-9.1.0         |       hdf63c60_0         4.0 MB\n",
            "    openssl-1.1.1g             |       h7b6447c_0         3.8 MB\n",
            "    zlib-1.2.11                |       h7b6447c_3         120 KB\n",
            "    pip-20.0.2                 |           py36_3         1.9 MB\n",
            "    libgcc-ng-9.1.0            |       hdf63c60_0         8.1 MB\n",
            "    sqlite-3.31.1              |       h62c20be_1         2.0 MB\n",
            "    ld_impl_linux-64-2.33.1    |       h53a641e_7         645 KB\n",
            "    ------------------------------------------------------------\n",
            "                                           Total:        60.9 MB\n",
            "\n",
            "The following NEW packages will be INSTALLED:\n",
            "\n",
            "    _libgcc_mutex:    0.1-main               \n",
            "    ld_impl_linux-64: 2.33.1-h53a641e_7      \n",
            "    ujson:            2.0.3-py36he6710b0_0   \n",
            "\n",
            "The following packages will be UPDATED:\n",
            "\n",
            "    ca-certificates:  2018.03.07-0            --> 2020.1.1-0             \n",
            "    certifi:          2018.4.16-py36_0        --> 2020.4.5.1-py36_0      \n",
            "    libedit:          3.1.20170329-h6b74fdf_2 --> 3.1.20181209-hc058e9b_0\n",
            "    libffi:           3.2.1-hd88cf55_4        --> 3.3-he6710b0_1         \n",
            "    libgcc-ng:        7.2.0-hdf63c60_3        --> 9.1.0-hdf63c60_0       \n",
            "    libstdcxx-ng:     7.2.0-hdf63c60_3        --> 9.1.0-hdf63c60_0       \n",
            "    ncurses:          6.1-hf484d3e_0          --> 6.2-he6710b0_1         \n",
            "    openssl:          1.0.2o-h20670df_0       --> 1.1.1g-h7b6447c_0      \n",
            "    pip:              10.0.1-py36_0           --> 20.0.2-py36_3          \n",
            "    python:           3.6.5-hc3d631a_2        --> 3.6.10-h7579374_2      \n",
            "    readline:         7.0-ha6073c6_4          --> 8.0-h7b6447c_0         \n",
            "    setuptools:       39.2.0-py36_0           --> 46.4.0-py36_0          \n",
            "    sqlite:           3.23.1-he433501_0       --> 3.31.1-h62c20be_1      \n",
            "    tk:               8.6.7-hc745277_3        --> 8.6.8-hbc83047_0       \n",
            "    wheel:            0.31.1-py36_0           --> 0.34.2-py36_0          \n",
            "    xz:               5.2.4-h14c3975_4        --> 5.2.5-h7b6447c_0       \n",
            "    zlib:             1.2.11-ha838bed_2       --> 1.2.11-h7b6447c_3      \n",
            "\n",
            "Preparing transaction: ...working... done\n",
            "Verifying transaction: ...working... done\n",
            "Executing transaction: ...working... done\n"
          ],
          "name": "stdout"
        }
      ]
    },
    {
      "cell_type": "code",
      "metadata": {
        "id": "Ot8nBIjFyoNt",
        "colab_type": "code",
        "colab": {
          "base_uri": "https://localhost:8080/",
          "height": 34
        },
        "outputId": "30d4ef45-4ff8-4007-81bf-fb5b167ea318"
      },
      "source": [
        "# update 2\n",
        "import sys\n",
        "sys.path.append('/usr/local/lib/python3.6/site-packages')\n",
        "# test it\n",
        "import ujson\n",
        "print(ujson.dumps({1:2}))"
      ],
      "execution_count": 6,
      "outputs": [
        {
          "output_type": "stream",
          "text": [
            "{\"1\":2}\n"
          ],
          "name": "stdout"
        }
      ]
    },
    {
      "cell_type": "code",
      "metadata": {
        "id": "CtHEF9Y-ysZy",
        "colab_type": "code",
        "colab": {
          "base_uri": "https://localhost:8080/",
          "height": 712
        },
        "outputId": "f22f7277-d40c-4d99-b46b-4d1482b4c7bb"
      },
      "source": [
        "! conda install -q -y --prefix /usr/local python=3.6 pytorch=0.4.1 cuda90 -c pytorch"
      ],
      "execution_count": 8,
      "outputs": [
        {
          "output_type": "stream",
          "text": [
            "Solving environment: ...working... done\n",
            "\n",
            "## Package Plan ##\n",
            "\n",
            "  environment location: /usr/local\n",
            "\n",
            "  added / updated specs: \n",
            "    - cuda90\n",
            "    - python=3.6\n",
            "    - pytorch=0.4.1\n",
            "\n",
            "\n",
            "The following packages will be downloaded:\n",
            "\n",
            "    package                    |            build\n",
            "    ---------------------------|-----------------\n",
            "    pytorch-0.4.1              |py36_py35_py27__9.0.176_7.1.2_2       471.7 MB  pytorch\n",
            "\n",
            "The following NEW packages will be INSTALLED:\n",
            "\n",
            "    blas:           1.0-mkl                                      \n",
            "    cuda90:         1.0-h6433d27_0                        pytorch\n",
            "    intel-openmp:   2020.1-217                                   \n",
            "    libgfortran-ng: 7.3.0-hdf63c60_0                             \n",
            "    mkl:            2020.1-217                                   \n",
            "    mkl-service:    2.3.0-py36he904b0f_0                         \n",
            "    mkl_fft:        1.0.15-py36ha843d7b_0                        \n",
            "    mkl_random:     1.1.1-py36h0573a6f_0                         \n",
            "    ninja:          1.9.0-py36hfd86e86_0                         \n",
            "    numpy:          1.18.1-py36h4f9e942_0                        \n",
            "    numpy-base:     1.18.1-py36hde5b4d6_1                        \n",
            "    pytorch:        0.4.1-py36_py35_py27__9.0.176_7.1.2_2 pytorch\n",
            "\n",
            "The following packages will be UPDATED:\n",
            "\n",
            "    cffi:           1.11.5-py36h9745a5d_0                         --> 1.14.0-py36he30daa8_1\n",
            "\n",
            "Preparing transaction: ...working... done\n",
            "Verifying transaction: ...working... done\n",
            "Executing transaction: ...working... done\n"
          ],
          "name": "stdout"
        }
      ]
    },
    {
      "cell_type": "code",
      "metadata": {
        "id": "viBmYNKNzZMT",
        "colab_type": "code",
        "colab": {
          "base_uri": "https://localhost:8080/",
          "height": 225
        },
        "outputId": "ff8b27b5-3b1f-438b-e4a4-e65a546d7022"
      },
      "source": [
        "! python3 -m pip install torchtext==0.1.1\n"
      ],
      "execution_count": 9,
      "outputs": [
        {
          "output_type": "stream",
          "text": [
            "Collecting torchtext==0.1.1\n",
            "  Downloading torchtext-0.1.1-py3-none-any.whl (24 kB)\n",
            "Collecting tqdm\n",
            "  Downloading tqdm-4.46.1-py2.py3-none-any.whl (63 kB)\n",
            "\u001b[?25l\r\u001b[K     |█████▏                          | 10 kB 39.1 MB/s eta 0:00:01\r\u001b[K     |██████████▎                     | 20 kB 44.0 MB/s eta 0:00:01\r\u001b[K     |███████████████▍                | 30 kB 46.8 MB/s eta 0:00:01\r\u001b[K     |████████████████████▋           | 40 kB 47.0 MB/s eta 0:00:01\r\u001b[K     |█████████████████████████▊      | 51 kB 34.2 MB/s eta 0:00:01\r\u001b[K     |██████████████████████████████▉ | 61 kB 33.1 MB/s eta 0:00:01\r\u001b[K     |████████████████████████████████| 63 kB 1.4 MB/s \n",
            "\u001b[?25hRequirement already satisfied: requests in /usr/local/lib/python3.6/site-packages (from torchtext==0.1.1) (2.18.4)\n",
            "Requirement already satisfied: chardet<3.1.0,>=3.0.2 in /usr/local/lib/python3.6/site-packages (from requests->torchtext==0.1.1) (3.0.4)\n",
            "Requirement already satisfied: idna<2.7,>=2.5 in /usr/local/lib/python3.6/site-packages (from requests->torchtext==0.1.1) (2.6)\n",
            "Requirement already satisfied: urllib3<1.23,>=1.21.1 in /usr/local/lib/python3.6/site-packages (from requests->torchtext==0.1.1) (1.22)\n",
            "Requirement already satisfied: certifi>=2017.4.17 in /usr/local/lib/python3.6/site-packages (from requests->torchtext==0.1.1) (2020.4.5.1)\n",
            "Installing collected packages: tqdm, torchtext\n",
            "Successfully installed torchtext-0.1.1 tqdm-4.46.1\n"
          ],
          "name": "stdout"
        }
      ]
    },
    {
      "cell_type": "code",
      "metadata": {
        "id": "GTgbWZrc21Cg",
        "colab_type": "code",
        "colab": {}
      },
      "source": [
        "import torch\n"
      ],
      "execution_count": 0,
      "outputs": []
    },
    {
      "cell_type": "code",
      "metadata": {
        "id": "NMx5bTh922Wp",
        "colab_type": "code",
        "colab": {
          "base_uri": "https://localhost:8080/",
          "height": 34
        },
        "outputId": "7c44f897-7d71-4576-90ae-2862a30631b8"
      },
      "source": [
        "torch.tensor(100000)"
      ],
      "execution_count": 13,
      "outputs": [
        {
          "output_type": "execute_result",
          "data": {
            "text/plain": [
              "tensor(100000)"
            ]
          },
          "metadata": {
            "tags": []
          },
          "execution_count": 13
        }
      ]
    },
    {
      "cell_type": "code",
      "metadata": {
        "id": "8mHX5k-n26m7",
        "colab_type": "code",
        "colab": {
          "base_uri": "https://localhost:8080/",
          "height": 34
        },
        "outputId": "3c5931b9-4752-4daf-a38a-f02c6b238f5c"
      },
      "source": [
        "! ls"
      ],
      "execution_count": 15,
      "outputs": [
        {
          "output_type": "stream",
          "text": [
            "Miniconda3-4.5.4-Linux-x86_64.sh  QG-Net  sample_data\n"
          ],
          "name": "stdout"
        }
      ]
    },
    {
      "cell_type": "code",
      "metadata": {
        "id": "y7J3mrA73JC-",
        "colab_type": "code",
        "colab": {
          "base_uri": "https://localhost:8080/",
          "height": 34
        },
        "outputId": "f80bf959-813e-4f07-8a6a-33eecdcba166"
      },
      "source": [
        "torch.cuda.is_available()"
      ],
      "execution_count": 16,
      "outputs": [
        {
          "output_type": "execute_result",
          "data": {
            "text/plain": [
              "True"
            ]
          },
          "metadata": {
            "tags": []
          },
          "execution_count": 16
        }
      ]
    },
    {
      "cell_type": "code",
      "metadata": {
        "id": "JgZ3W9Zi3L12",
        "colab_type": "code",
        "colab": {
          "base_uri": "https://localhost:8080/",
          "height": 34
        },
        "outputId": "12f7225d-3712-4c5c-c5c5-fd364ec8d1bd"
      },
      "source": [
        "%cd QG-Net"
      ],
      "execution_count": 42,
      "outputs": [
        {
          "output_type": "stream",
          "text": [
            "/content/QG-Net\n"
          ],
          "name": "stdout"
        }
      ]
    },
    {
      "cell_type": "code",
      "metadata": {
        "id": "I-4su-Wj3NVz",
        "colab_type": "code",
        "colab": {
          "base_uri": "https://localhost:8080/",
          "height": 1000
        },
        "outputId": "a544c757-3eac-4bba-c44f-86734b25409c"
      },
      "source": [
        "! bash ./download_QG-Net.sh\n",
        "! bash download_baselines.sh"
      ],
      "execution_count": 44,
      "outputs": [
        {
          "output_type": "stream",
          "text": [
            "mkdir: cannot create directory ‘data/’: File exists\n",
            "--2020-06-04 15:32:10--  https://rice.box.com/shared/static/o8hw9zyzm1391blwtm8lx6c38qu9shck.gz\n",
            "Resolving rice.box.com (rice.box.com)... 103.116.4.197\n",
            "Connecting to rice.box.com (rice.box.com)|103.116.4.197|:443... connected.\n",
            "HTTP request sent, awaiting response... 301 Moved Permanently\n",
            "Location: /public/static/o8hw9zyzm1391blwtm8lx6c38qu9shck.gz [following]\n",
            "--2020-06-04 15:32:11--  https://rice.box.com/public/static/o8hw9zyzm1391blwtm8lx6c38qu9shck.gz\n",
            "Reusing existing connection to rice.box.com:443.\n",
            "HTTP request sent, awaiting response... 301 Moved Permanently\n",
            "Location: https://rice.app.box.com/public/static/o8hw9zyzm1391blwtm8lx6c38qu9shck.gz [following]\n",
            "--2020-06-04 15:32:11--  https://rice.app.box.com/public/static/o8hw9zyzm1391blwtm8lx6c38qu9shck.gz\n",
            "Resolving rice.app.box.com (rice.app.box.com)... 103.116.4.201\n",
            "Connecting to rice.app.box.com (rice.app.box.com)|103.116.4.201|:443... connected.\n",
            "HTTP request sent, awaiting response... 302 Found\n",
            "Location: https://public.boxcloud.com/d/1/b1!8Zac5eNbtrIudDBPUUMPnxxas4geBAV6T6EYDYjUBYT0j4JpebhlkpB6uDRp0HTxXt0MHwh5AUASefKk9Mpx5LzSdMuHGDkIfYXjZ0UdtdXpwt-C3a17oKGkHQrTEtc1EV958faPxsXVnf_Sj7WjTfNpPB9G8zdHIaDZ0JqEEvhZG7D_c--VJylTcz_zx3mLiBeevNO-iSMX3LvikTCVmyiDx6Y2oD_cEsPsFaRHrdgsvpN9NfBinRVU2b6g3c1c9ekSm0LJrzSzcAQuwdb6kRSXUwrctbqzvxTi6cJWTH23iuncZyH4SAi6-lgbG2m0iqaqO27am7GhgeJQYGgOcg--NHGayp0tcM6eWP4Fj2SWMmsS_NOehNLIDpLjWpf7zH4vmIeZbDE4Z_fW-vxiMZk8AoUjUwe2JsvTm2ozUf9Lg9hBzNFHHkNbxgVTs5nl528l_e4AlnNsdEbFHgplBAD48HmhmTT6jhOw0iT-ds2PKm1Fj9u_SqjSZrDaplTVH6t4X91AuSw9Yvt0wKiW4xfI92FFADPlYPsl3dUy5fjvFTGPZDL23C7lI_khBEhQStZHtfXzxqTEDDBfv2Qqoa1m_lks6jslqsMv8vqP1oHVAoP2Zeu3imuUvQXDNLm9uITgmaZwFBVejxluyPZOdWERbt3H0M9ek3GE1N7onFTwSD3JAYKhV4oVKrhD4_rXiOOmFnSDUWcGn1Zv1mNAk3zZtBy_HWCPsGG6dtx2HYfNVZoh5gIgcwnonHKH14RjCBp53siZkYFRyvCQIDqXf9Yf8g23q8QGvwz2z27-DMGyQ_9-0pyhTBHG0EAn4mMrCDAVDRpe5fhT2zGK9xMm7WS2_pFcRYwQcILapu7W2Y7ra4c7D8jEj59QCmEnejGlWlNUc1_wJWoGUnE99hypAIhRJ5wbFzDVvNZa13Q4yvSjruEj0Mc3En6K7vaBMA2IAEYhbwPCjzyJPpPM7UJL_TH3TpW4J6e7l34xOS9J90rwK_uaE605ZGQ0-7A2Ks_cTxJBZ3hedZb7UWdfTRuULftxpV_f6NYyOmXH8KDAOPykk317-92AaOW27nSdBTtE1raOi7FU-jZ6_4aa9q6f6tOYFE1rCzNxHmsnCSYK3IK8MYGWAfq03uA_JsZKSJffY8ysGzCdd4KXl1-wsLPVLfnfjyyHZfY9Q3FCR3DBnnYwRq3yU8ViclOCCQG7e7jqn7OoQZe73eP6BCbYnTK4EQWvEfkZahpzRZaQon2n0AZj0OF7kK6XwKf1XXFE8xH3b-8GZkBoGlKRIu5iKvnK-TjSLm7DgaJrDfAWcl-fN627EOZqSjPWA5zThzAppMS1PVv8vlzrYwT3NfKfsowsKgHsz-iFdyWeMVcn1pJfdKsPgBLL1yiGqIgoplsfZoM./download [following]\n",
            "--2020-06-04 15:32:12--  https://public.boxcloud.com/d/1/b1!8Zac5eNbtrIudDBPUUMPnxxas4geBAV6T6EYDYjUBYT0j4JpebhlkpB6uDRp0HTxXt0MHwh5AUASefKk9Mpx5LzSdMuHGDkIfYXjZ0UdtdXpwt-C3a17oKGkHQrTEtc1EV958faPxsXVnf_Sj7WjTfNpPB9G8zdHIaDZ0JqEEvhZG7D_c--VJylTcz_zx3mLiBeevNO-iSMX3LvikTCVmyiDx6Y2oD_cEsPsFaRHrdgsvpN9NfBinRVU2b6g3c1c9ekSm0LJrzSzcAQuwdb6kRSXUwrctbqzvxTi6cJWTH23iuncZyH4SAi6-lgbG2m0iqaqO27am7GhgeJQYGgOcg--NHGayp0tcM6eWP4Fj2SWMmsS_NOehNLIDpLjWpf7zH4vmIeZbDE4Z_fW-vxiMZk8AoUjUwe2JsvTm2ozUf9Lg9hBzNFHHkNbxgVTs5nl528l_e4AlnNsdEbFHgplBAD48HmhmTT6jhOw0iT-ds2PKm1Fj9u_SqjSZrDaplTVH6t4X91AuSw9Yvt0wKiW4xfI92FFADPlYPsl3dUy5fjvFTGPZDL23C7lI_khBEhQStZHtfXzxqTEDDBfv2Qqoa1m_lks6jslqsMv8vqP1oHVAoP2Zeu3imuUvQXDNLm9uITgmaZwFBVejxluyPZOdWERbt3H0M9ek3GE1N7onFTwSD3JAYKhV4oVKrhD4_rXiOOmFnSDUWcGn1Zv1mNAk3zZtBy_HWCPsGG6dtx2HYfNVZoh5gIgcwnonHKH14RjCBp53siZkYFRyvCQIDqXf9Yf8g23q8QGvwz2z27-DMGyQ_9-0pyhTBHG0EAn4mMrCDAVDRpe5fhT2zGK9xMm7WS2_pFcRYwQcILapu7W2Y7ra4c7D8jEj59QCmEnejGlWlNUc1_wJWoGUnE99hypAIhRJ5wbFzDVvNZa13Q4yvSjruEj0Mc3En6K7vaBMA2IAEYhbwPCjzyJPpPM7UJL_TH3TpW4J6e7l34xOS9J90rwK_uaE605ZGQ0-7A2Ks_cTxJBZ3hedZb7UWdfTRuULftxpV_f6NYyOmXH8KDAOPykk317-92AaOW27nSdBTtE1raOi7FU-jZ6_4aa9q6f6tOYFE1rCzNxHmsnCSYK3IK8MYGWAfq03uA_JsZKSJffY8ysGzCdd4KXl1-wsLPVLfnfjyyHZfY9Q3FCR3DBnnYwRq3yU8ViclOCCQG7e7jqn7OoQZe73eP6BCbYnTK4EQWvEfkZahpzRZaQon2n0AZj0OF7kK6XwKf1XXFE8xH3b-8GZkBoGlKRIu5iKvnK-TjSLm7DgaJrDfAWcl-fN627EOZqSjPWA5zThzAppMS1PVv8vlzrYwT3NfKfsowsKgHsz-iFdyWeMVcn1pJfdKsPgBLL1yiGqIgoplsfZoM./download\n",
            "Resolving public.boxcloud.com (public.boxcloud.com)... 103.116.4.200\n",
            "Connecting to public.boxcloud.com (public.boxcloud.com)|103.116.4.200|:443... connected.\n",
            "HTTP request sent, awaiting response... 200 OK\n",
            "Length: 1050129 (1.0M) [application/octet-stream]\n",
            "Saving to: ‘test.tar.gz’\n",
            "\n",
            "test.tar.gz         100%[===================>]   1.00M  1.93MB/s    in 0.5s    \n",
            "\n",
            "2020-06-04 15:32:13 (1.93 MB/s) - ‘test.tar.gz’ saved [1050129/1050129]\n",
            "\n",
            "test/\n",
            "test/squad.corenlp.filtered.questions.txt\n",
            "test/squad.corenlp.filtered.contents.features.1sent.txt\n",
            "test/squad.corenlp.filtered.contents.1sent.txt\n",
            "--2020-06-04 15:32:13--  https://rice.box.com/shared/static/izhz3hasup6ekgi8jwyokt70btdq5z3j.pt\n",
            "Resolving rice.box.com (rice.box.com)... 103.116.4.197\n",
            "Connecting to rice.box.com (rice.box.com)|103.116.4.197|:443... connected.\n",
            "HTTP request sent, awaiting response... 301 Moved Permanently\n",
            "Location: /public/static/izhz3hasup6ekgi8jwyokt70btdq5z3j.pt [following]\n",
            "--2020-06-04 15:32:14--  https://rice.box.com/public/static/izhz3hasup6ekgi8jwyokt70btdq5z3j.pt\n",
            "Reusing existing connection to rice.box.com:443.\n",
            "HTTP request sent, awaiting response... 301 Moved Permanently\n",
            "Location: https://rice.app.box.com/public/static/izhz3hasup6ekgi8jwyokt70btdq5z3j.pt [following]\n",
            "--2020-06-04 15:32:14--  https://rice.app.box.com/public/static/izhz3hasup6ekgi8jwyokt70btdq5z3j.pt\n",
            "Resolving rice.app.box.com (rice.app.box.com)... 103.116.4.201\n",
            "Connecting to rice.app.box.com (rice.app.box.com)|103.116.4.201|:443... connected.\n",
            "HTTP request sent, awaiting response... 302 Found\n",
            "Location: https://public.boxcloud.com/d/1/b1!CBAARercqpRFmRth24trNghxUHDvXTDWULKnwdvIEE-i7T6wftg261piE0FTWAtVZdRcdGpQmsQd-yd-znpvwkHQv0vGRAUa6RTc3hHdCHI_wbcaQsspWcK0L4q_ifBlROw8DNxC2-r6JgZxPTpjbeg_EVJamTYpnJhzAKGWZpEUkXU2O66ZnIA-UvJh5ybKEpkfHHlCf2LxHkIF33YxN4AZmQNgrYTRQZqy0AD1d61iIvutEbh5Or9yWp-34ddgKx4yEVdQ1ES6LXeWTnQfuPm_gTay_d75T7yuz1BgrONCaX9TnnpAjNuRgp6VSpupHQ3C9CoZA2nYuxJnqpj5QHeIb_pVrCtnbSg3aoJXXiVt2DnQtP1TDUOiG9fkBaHyzLsaP_6HJyZi_7LgNJ6ylAQ7V_n-O19WBAwpMnugdPfst4zswy5ejMddEl_qYdmE5fFv0tqfKUERVRT15hp1zQ_EZRIhpJ6FuZpziWB1WLgVQSWYAM7nQfgofQJn7sKpmjFsHWXyM9MFcgVF4qGaj_nUy3B9zO9S7vCjGss1X-u_ce2LmO_EtW3D4h372Uk5OPWv1NndHRNpnAXzP9QkJVBBWTyZDd4FzzvqRQeGmZpXGJzHRXXWPWDs6k9wTnOp5aRi2BKaGoPsUehGTv0XCGnECkoE-DLYdNHdpvu3G2QU7gOE5RsX-zGzxXuZ4Ev0KhMvw13gbwoZ_FX-b5LvFDV-RKbasa73xsq8Z0gkbj0LK9i3GF7c5FHO-mRdTMKQw-oxugFAvyBNPJrtbau-wg_Tk5H2VjbK6Ld06LRqxdgvDUjq5PLNY8EUne7x7fDpegyuqYjHQDPidtEZr2SbHYVyOMP861msJGwjywU5okKLolflYvwvZHpzB80GBE1ZR-lwU9PIFj_FJiWGKdKVZCiwG0hbXTYpVTicO-9WaumuKtosGHhDPqXw19x9Vcrl2gsiup5-ZJe3dL9axgxw6PyrmWBJ0ou63bxLCZEg5g2AF9MJHJc9Zqjn-Vz3WpJSL0t-jEFcOG-eBctIlxzQBL8gBYiecbfOcmMIb_rOBEbcCXb-80QEmRZsk8Ly_gp4THlR8roI_n3HmrJLso80dZavJZvMUELk9q3-71eK4gyP5ET4JEPsets5x92SeNsb9Q9GapJe7CasewtPuzVhSSRHqwsU40mO2Lqc4-JaxPssmEVw9YMxBcGkOqYpDvSxCQjmWM9hylXDDwP_nbJAtq-2cuS0i1qYQPxmQwEd65XT3wMn9rL7ZUGZjrvWQe_DKmlVS_dn0XzHMfeIreGLaEMgc4N3FqDsoeC_9ttpPrDx4NmUIRnQVxmO2sm66hzJjd59mr6PqAMRghwVI6oOHEppnxqtiyTgQhSrf53oj_icRTNUn1rTaZZ5kJidLMo./download [following]\n",
            "--2020-06-04 15:32:15--  https://public.boxcloud.com/d/1/b1!CBAARercqpRFmRth24trNghxUHDvXTDWULKnwdvIEE-i7T6wftg261piE0FTWAtVZdRcdGpQmsQd-yd-znpvwkHQv0vGRAUa6RTc3hHdCHI_wbcaQsspWcK0L4q_ifBlROw8DNxC2-r6JgZxPTpjbeg_EVJamTYpnJhzAKGWZpEUkXU2O66ZnIA-UvJh5ybKEpkfHHlCf2LxHkIF33YxN4AZmQNgrYTRQZqy0AD1d61iIvutEbh5Or9yWp-34ddgKx4yEVdQ1ES6LXeWTnQfuPm_gTay_d75T7yuz1BgrONCaX9TnnpAjNuRgp6VSpupHQ3C9CoZA2nYuxJnqpj5QHeIb_pVrCtnbSg3aoJXXiVt2DnQtP1TDUOiG9fkBaHyzLsaP_6HJyZi_7LgNJ6ylAQ7V_n-O19WBAwpMnugdPfst4zswy5ejMddEl_qYdmE5fFv0tqfKUERVRT15hp1zQ_EZRIhpJ6FuZpziWB1WLgVQSWYAM7nQfgofQJn7sKpmjFsHWXyM9MFcgVF4qGaj_nUy3B9zO9S7vCjGss1X-u_ce2LmO_EtW3D4h372Uk5OPWv1NndHRNpnAXzP9QkJVBBWTyZDd4FzzvqRQeGmZpXGJzHRXXWPWDs6k9wTnOp5aRi2BKaGoPsUehGTv0XCGnECkoE-DLYdNHdpvu3G2QU7gOE5RsX-zGzxXuZ4Ev0KhMvw13gbwoZ_FX-b5LvFDV-RKbasa73xsq8Z0gkbj0LK9i3GF7c5FHO-mRdTMKQw-oxugFAvyBNPJrtbau-wg_Tk5H2VjbK6Ld06LRqxdgvDUjq5PLNY8EUne7x7fDpegyuqYjHQDPidtEZr2SbHYVyOMP861msJGwjywU5okKLolflYvwvZHpzB80GBE1ZR-lwU9PIFj_FJiWGKdKVZCiwG0hbXTYpVTicO-9WaumuKtosGHhDPqXw19x9Vcrl2gsiup5-ZJe3dL9axgxw6PyrmWBJ0ou63bxLCZEg5g2AF9MJHJc9Zqjn-Vz3WpJSL0t-jEFcOG-eBctIlxzQBL8gBYiecbfOcmMIb_rOBEbcCXb-80QEmRZsk8Ly_gp4THlR8roI_n3HmrJLso80dZavJZvMUELk9q3-71eK4gyP5ET4JEPsets5x92SeNsb9Q9GapJe7CasewtPuzVhSSRHqwsU40mO2Lqc4-JaxPssmEVw9YMxBcGkOqYpDvSxCQjmWM9hylXDDwP_nbJAtq-2cuS0i1qYQPxmQwEd65XT3wMn9rL7ZUGZjrvWQe_DKmlVS_dn0XzHMfeIreGLaEMgc4N3FqDsoeC_9ttpPrDx4NmUIRnQVxmO2sm66hzJjd59mr6PqAMRghwVI6oOHEppnxqtiyTgQhSrf53oj_icRTNUn1rTaZZ5kJidLMo./download\n",
            "Resolving public.boxcloud.com (public.boxcloud.com)... 103.116.4.200\n",
            "Connecting to public.boxcloud.com (public.boxcloud.com)|103.116.4.200|:443... connected.\n",
            "HTTP request sent, awaiting response... 200 OK\n",
            "Length: 442198997 (422M) [application/octet-stream]\n",
            "Saving to: ‘QG-Net.pt’\n",
            "\n",
            "QG-Net.pt           100%[===================>] 421.71M  15.9MB/s    in 27s     \n",
            "\n",
            "2020-06-04 15:32:43 (15.9 MB/s) - ‘QG-Net.pt’ saved [442198997/442198997]\n",
            "\n",
            "download completed.\n",
            "--2020-06-04 15:32:45--  https://rice.box.com/shared/static/1ljzn157vg7fisilfvbsx318453sy86b.pt\n",
            "Resolving rice.box.com (rice.box.com)... 103.116.4.197\n",
            "Connecting to rice.box.com (rice.box.com)|103.116.4.197|:443... connected.\n",
            "HTTP request sent, awaiting response... 301 Moved Permanently\n",
            "Location: /public/static/1ljzn157vg7fisilfvbsx318453sy86b.pt [following]\n",
            "--2020-06-04 15:32:46--  https://rice.box.com/public/static/1ljzn157vg7fisilfvbsx318453sy86b.pt\n",
            "Reusing existing connection to rice.box.com:443.\n",
            "HTTP request sent, awaiting response... 301 Moved Permanently\n",
            "Location: https://rice.app.box.com/public/static/1ljzn157vg7fisilfvbsx318453sy86b.pt [following]\n",
            "--2020-06-04 15:32:46--  https://rice.app.box.com/public/static/1ljzn157vg7fisilfvbsx318453sy86b.pt\n",
            "Resolving rice.app.box.com (rice.app.box.com)... 103.116.4.201\n",
            "Connecting to rice.app.box.com (rice.app.box.com)|103.116.4.201|:443... connected.\n",
            "HTTP request sent, awaiting response... 302 Found\n",
            "Location: https://public.boxcloud.com/d/1/b1!uiYQUbNLAfHHL3uOMAXz9eNZ6w4R8JqApEeBJrP9PRTXrGXFuMetwOnfle-d9bWcssKWCBDn71ElmAF9PDNTTCbbC2AIF8sCkSkHueFsG_lg1JcmPkVuzMC1kPGgLRHJg4gsV4FS2owK9qY1K0E5A0vfsVxdpqsCZNkHduX-oNaf3VHTb4Sria8XWJg18GM-ZEeLasWEFsRf1WamYFr4oK-XeHKUf2fgBWpDuagK7V73w0jWSHMBIMGGRQHDAhILfygzrwearsgX_PacA8mJvy35w5e5fZuBJjX36REggEyThwhOPsdO3qDZtlNunEuC-TD9FMBzFUHfTLFF6_nzsnJTj4dd_kknUUCqSrDNW2vkaX7BAT3Mls1EqCmNwZjdjSXwwdSiG0njYBM6l8qFw9fh9Ws4eX866BF2eIAAyiWrn6HiIHjmy9SkWQ9Z77t5ORQiRo0UQs_pdw67JPcMYHtW9JunQ46yFBhrZOcR1g2vosVOfAEhU3XcIaTn1W9qiZADmEmVSg8Ai9GHFX7VzAqkF8eeOkCZ3XMJ5hAvnmJKrJJSNCdK80urIe78rVZTulHycYLhL-AxFxj0ta6-ldtsz1XIvHQsp0Lwi6lHAD31dBXmA77Q1CyXd50N92aPmfVi-6JHy1cMumpKfujH01YQfYKPVNYt2yED2XrO0rOD6qDgmDqFDeTVrKpnsK-CkHvNHn1ATDoGlXtIB2VY7fq0QgimAczWxJMREuJyQgmvPYrYW7beXbWCO2UJA3tPYRdaDUqet_Fm-m72T9MoDyEAfYBhUQ7YeK5v8tO_7YAuz7Ie6-hcLp7TiC7nPHsjw-Pfp2Hl5g2y884el1NGOTrjZb7T9TR5bLZC3PWtUW86h498_StHqVMMDuIhRhFRrEKp_1orM6YK0bdSWX3o-NgmfeY_3QvZ799td-IghKusRiRQYyRFJeU5Htbem_kqjb6rwop8qb8CgAybz3gzo1xJPeBd24rBrE8vVCh8nubpX2n_SaR8Kdg98m8LZ0bTgXpA6owX0W9a-pL8ugymmG1HQPfGNrwihy2dTFLm1LY6P0C1tzA_H-DwfFtTRwHuLGUWYmAsgj0PhGa1e1vjx4EEVFCU3U5qro5aKeuUUlA5nA7i-zZRIWLtaQIEFE5wt2bgfzKboG_wD_S5eb4QWdq8LLyn9FgqbYm_Az--EytDBpiDxYnkH40daIKJTmw63CTAo2yPh5uwB1JdlnRSutKaq7G34OusOpGWwPhGu7_CyMwz9j8T9nChQnSYNCO8zOFUIh7UBx7ML-jxJoRiHYepRfyv7PjdfFzGhXk5U0--uvtQQ5dnstG1PRpIGJEEhh6_mj4ExE_fcLwAYmx2pd-vco9ot_UNONDZNY7nX0kpva41esMu0xUdcLWXXpkxxXI./download [following]\n",
            "--2020-06-04 15:32:47--  https://public.boxcloud.com/d/1/b1!uiYQUbNLAfHHL3uOMAXz9eNZ6w4R8JqApEeBJrP9PRTXrGXFuMetwOnfle-d9bWcssKWCBDn71ElmAF9PDNTTCbbC2AIF8sCkSkHueFsG_lg1JcmPkVuzMC1kPGgLRHJg4gsV4FS2owK9qY1K0E5A0vfsVxdpqsCZNkHduX-oNaf3VHTb4Sria8XWJg18GM-ZEeLasWEFsRf1WamYFr4oK-XeHKUf2fgBWpDuagK7V73w0jWSHMBIMGGRQHDAhILfygzrwearsgX_PacA8mJvy35w5e5fZuBJjX36REggEyThwhOPsdO3qDZtlNunEuC-TD9FMBzFUHfTLFF6_nzsnJTj4dd_kknUUCqSrDNW2vkaX7BAT3Mls1EqCmNwZjdjSXwwdSiG0njYBM6l8qFw9fh9Ws4eX866BF2eIAAyiWrn6HiIHjmy9SkWQ9Z77t5ORQiRo0UQs_pdw67JPcMYHtW9JunQ46yFBhrZOcR1g2vosVOfAEhU3XcIaTn1W9qiZADmEmVSg8Ai9GHFX7VzAqkF8eeOkCZ3XMJ5hAvnmJKrJJSNCdK80urIe78rVZTulHycYLhL-AxFxj0ta6-ldtsz1XIvHQsp0Lwi6lHAD31dBXmA77Q1CyXd50N92aPmfVi-6JHy1cMumpKfujH01YQfYKPVNYt2yED2XrO0rOD6qDgmDqFDeTVrKpnsK-CkHvNHn1ATDoGlXtIB2VY7fq0QgimAczWxJMREuJyQgmvPYrYW7beXbWCO2UJA3tPYRdaDUqet_Fm-m72T9MoDyEAfYBhUQ7YeK5v8tO_7YAuz7Ie6-hcLp7TiC7nPHsjw-Pfp2Hl5g2y884el1NGOTrjZb7T9TR5bLZC3PWtUW86h498_StHqVMMDuIhRhFRrEKp_1orM6YK0bdSWX3o-NgmfeY_3QvZ799td-IghKusRiRQYyRFJeU5Htbem_kqjb6rwop8qb8CgAybz3gzo1xJPeBd24rBrE8vVCh8nubpX2n_SaR8Kdg98m8LZ0bTgXpA6owX0W9a-pL8ugymmG1HQPfGNrwihy2dTFLm1LY6P0C1tzA_H-DwfFtTRwHuLGUWYmAsgj0PhGa1e1vjx4EEVFCU3U5qro5aKeuUUlA5nA7i-zZRIWLtaQIEFE5wt2bgfzKboG_wD_S5eb4QWdq8LLyn9FgqbYm_Az--EytDBpiDxYnkH40daIKJTmw63CTAo2yPh5uwB1JdlnRSutKaq7G34OusOpGWwPhGu7_CyMwz9j8T9nChQnSYNCO8zOFUIh7UBx7ML-jxJoRiHYepRfyv7PjdfFzGhXk5U0--uvtQQ5dnstG1PRpIGJEEhh6_mj4ExE_fcLwAYmx2pd-vco9ot_UNONDZNY7nX0kpva41esMu0xUdcLWXXpkxxXI./download\n",
            "Resolving public.boxcloud.com (public.boxcloud.com)... 103.116.4.200\n",
            "Connecting to public.boxcloud.com (public.boxcloud.com)|103.116.4.200|:443... connected.\n",
            "HTTP request sent, awaiting response... 200 OK\n",
            "Length: 436890902 (417M) [application/octet-stream]\n",
            "Saving to: ‘LSTM-attn.pt’\n",
            "\n",
            "LSTM-attn.pt        100%[===================>] 416.65M  16.1MB/s    in 26s     \n",
            "\n",
            "2020-06-04 15:33:14 (15.8 MB/s) - ‘LSTM-attn.pt’ saved [436890902/436890902]\n",
            "\n",
            "--2020-06-04 15:33:14--  https://rice.box.com/shared/static/7v1zifdbjkpqimldjysd79uktjvfpj5m.pt\n",
            "Resolving rice.box.com (rice.box.com)... 103.116.4.197\n",
            "Connecting to rice.box.com (rice.box.com)|103.116.4.197|:443... connected.\n",
            "HTTP request sent, awaiting response... 301 Moved Permanently\n",
            "Location: /public/static/7v1zifdbjkpqimldjysd79uktjvfpj5m.pt [following]\n",
            "--2020-06-04 15:33:14--  https://rice.box.com/public/static/7v1zifdbjkpqimldjysd79uktjvfpj5m.pt\n",
            "Reusing existing connection to rice.box.com:443.\n",
            "HTTP request sent, awaiting response... 301 Moved Permanently\n",
            "Location: https://rice.app.box.com/public/static/7v1zifdbjkpqimldjysd79uktjvfpj5m.pt [following]\n",
            "--2020-06-04 15:33:15--  https://rice.app.box.com/public/static/7v1zifdbjkpqimldjysd79uktjvfpj5m.pt\n",
            "Resolving rice.app.box.com (rice.app.box.com)... 103.116.4.201\n",
            "Connecting to rice.app.box.com (rice.app.box.com)|103.116.4.201|:443... connected.\n",
            "HTTP request sent, awaiting response... 302 Found\n",
            "Location: https://public.boxcloud.com/d/1/b1!80XZUlgYlRU86AFzn6x_dhPpfJUFrjIL8OcG0FMGKvvQGi75XIc2cUPYPSXJwM8T-53ItcHArUgfc1o8Ff5-jiYdJUdIDhbf91BlPt8HawUv6uTtPaS8qMY-w72rkKhdfikTKXBa_AxS0bZnAYJV-WnMll0C20uJENrlKQ5L670W-5yjeL8sEwAsOqq-3TKTwJC1kBQ132GdkYU8mvAvP23ohwoyGLZqEpxg8uADffERNgNDhzlOcIA8EGZEkNnsJYoOEh9LU7bqwWKlN_ivITxpeWSE6nax4S3Ax88ogOyEFtBU8jT1RXIWCeu4yI-OaHxX-7FjAcnzfPMJlqwYxajrcmKkRviRO1p7dAOIUqKxUyGlHMPJQtkK5igsl466KD80iStdAQ5T830bWosiHFPddPsUQkXqG0vP6YTVSB5pTlhv4UFe89fq1ALkZd98CrV2nY6r41j5MviSfvqTpfNd6JcD4eW6DRl90YyITIy_tL4Jiq72yXrUt4X0dbIb-gZqEOP3J_jyc1RpyqAU6z8dbzz2NoxEwZDdYaqO37sKcXsMW_4f3_oI204SbzGekmhQfjt2u09WQKl0zuvVCQ7wrCku0GL4_L7UrlO90-S7X7Qmhyxo32OBrLDbGIrfcSBNz6EzQy0H-D3t9jp507e0OkbPI4ShZUpfwr9DNXxt8EOtNHixGhUZe7vDMUdKoskmL6oRx1qgYfQieMLVMEORxZhz2T7KfwsApVDE6KvKZQ1jo04EHG9l9zcj71gqaRQMmT9sYcR-OHJaiC7ZOs0ubgu8trfH_BhpUj01IQqsRPYQfC1W6v-ekyQ8g5moDnu7DG2vUUaGJAiRXVVimhFlaTsreqbjoMSR9S2Kgdnp7lUdi0ksw40xc18fBBUMHryef8ef5uRSzLZfOZ1qS84gXVlw17gYI0K15W9QPup2V4AEk41A-1Uui2ZSlJ7RpdA4G88xcLQsts2nst9m1g4q9qYPt0-9FN-EjPdjXfeICczrHCbt3gHNBaoZdZwV0xXohFwEgselBEmJFThJW-H-6oHVCt6fUBwAtwD34bDSZzWVJCS8WSDZPEo-4yrDgbg09JkBLjBlnQBwhIgGQfPZ3gs-oNs0IYP7FpRWmbwBJV669V5-kF2VLzYmecifikJU-Dh9YxvIlr84T5zp0C8ihn7zdN0apXFUtkm8Jyddr3XX3ZU8ZAfgyDV_HTJwsB9RjfA0_gxfTXf-5n4AcAs3tMCtcwSd7FSW8utnPmng5ZZWPBpz1Ry4P6qrMySeLNFPBNb4clcuhX-FMwL_ge_IM5H5OVPfwx9HeXKtj3pdLNIcwb97YSLdlYX8RFwE_Kq060AGftozNftYfxejffab-RjsU2JbW29u-9oRKgbvcPbTzXbOSKPBACsqJnJOWcVQp6nU/download [following]\n",
            "--2020-06-04 15:33:15--  https://public.boxcloud.com/d/1/b1!80XZUlgYlRU86AFzn6x_dhPpfJUFrjIL8OcG0FMGKvvQGi75XIc2cUPYPSXJwM8T-53ItcHArUgfc1o8Ff5-jiYdJUdIDhbf91BlPt8HawUv6uTtPaS8qMY-w72rkKhdfikTKXBa_AxS0bZnAYJV-WnMll0C20uJENrlKQ5L670W-5yjeL8sEwAsOqq-3TKTwJC1kBQ132GdkYU8mvAvP23ohwoyGLZqEpxg8uADffERNgNDhzlOcIA8EGZEkNnsJYoOEh9LU7bqwWKlN_ivITxpeWSE6nax4S3Ax88ogOyEFtBU8jT1RXIWCeu4yI-OaHxX-7FjAcnzfPMJlqwYxajrcmKkRviRO1p7dAOIUqKxUyGlHMPJQtkK5igsl466KD80iStdAQ5T830bWosiHFPddPsUQkXqG0vP6YTVSB5pTlhv4UFe89fq1ALkZd98CrV2nY6r41j5MviSfvqTpfNd6JcD4eW6DRl90YyITIy_tL4Jiq72yXrUt4X0dbIb-gZqEOP3J_jyc1RpyqAU6z8dbzz2NoxEwZDdYaqO37sKcXsMW_4f3_oI204SbzGekmhQfjt2u09WQKl0zuvVCQ7wrCku0GL4_L7UrlO90-S7X7Qmhyxo32OBrLDbGIrfcSBNz6EzQy0H-D3t9jp507e0OkbPI4ShZUpfwr9DNXxt8EOtNHixGhUZe7vDMUdKoskmL6oRx1qgYfQieMLVMEORxZhz2T7KfwsApVDE6KvKZQ1jo04EHG9l9zcj71gqaRQMmT9sYcR-OHJaiC7ZOs0ubgu8trfH_BhpUj01IQqsRPYQfC1W6v-ekyQ8g5moDnu7DG2vUUaGJAiRXVVimhFlaTsreqbjoMSR9S2Kgdnp7lUdi0ksw40xc18fBBUMHryef8ef5uRSzLZfOZ1qS84gXVlw17gYI0K15W9QPup2V4AEk41A-1Uui2ZSlJ7RpdA4G88xcLQsts2nst9m1g4q9qYPt0-9FN-EjPdjXfeICczrHCbt3gHNBaoZdZwV0xXohFwEgselBEmJFThJW-H-6oHVCt6fUBwAtwD34bDSZzWVJCS8WSDZPEo-4yrDgbg09JkBLjBlnQBwhIgGQfPZ3gs-oNs0IYP7FpRWmbwBJV669V5-kF2VLzYmecifikJU-Dh9YxvIlr84T5zp0C8ihn7zdN0apXFUtkm8Jyddr3XX3ZU8ZAfgyDV_HTJwsB9RjfA0_gxfTXf-5n4AcAs3tMCtcwSd7FSW8utnPmng5ZZWPBpz1Ry4P6qrMySeLNFPBNb4clcuhX-FMwL_ge_IM5H5OVPfwx9HeXKtj3pdLNIcwb97YSLdlYX8RFwE_Kq060AGftozNftYfxejffab-RjsU2JbW29u-9oRKgbvcPbTzXbOSKPBACsqJnJOWcVQp6nU/download\n",
            "Resolving public.boxcloud.com (public.boxcloud.com)... 103.116.4.200\n",
            "Connecting to public.boxcloud.com (public.boxcloud.com)|103.116.4.200|:443... connected.\n",
            "HTTP request sent, awaiting response... 200 OK\n",
            "Length: 442155921 (422M) [application/octet-stream]\n",
            "Saving to: ‘QG-Net-nofeat.pt’\n",
            "\n",
            "QG-Net-nofeat.pt    100%[===================>] 421.67M  14.0MB/s    in 31s     \n",
            "\n",
            "2020-06-04 15:33:47 (13.6 MB/s) - ‘QG-Net-nofeat.pt’ saved [442155921/442155921]\n",
            "\n",
            "download completed.\n"
          ],
          "name": "stdout"
        }
      ]
    },
    {
      "cell_type": "code",
      "metadata": {
        "id": "Xk1o6-9J3R27",
        "colab_type": "code",
        "colab": {
          "base_uri": "https://localhost:8080/",
          "height": 34
        },
        "outputId": "0134bd56-812c-4a0a-cd74-88afbfc2593a"
      },
      "source": [
        "%cd test/"
      ],
      "execution_count": 45,
      "outputs": [
        {
          "output_type": "stream",
          "text": [
            "/content/QG-Net/test\n"
          ],
          "name": "stdout"
        }
      ]
    },
    {
      "cell_type": "code",
      "metadata": {
        "id": "6QcxdZfr3pDn",
        "colab_type": "code",
        "colab": {
          "base_uri": "https://localhost:8080/",
          "height": 139
        },
        "outputId": "fddcbd79-1fdb-471d-c1fa-faefd8997e41"
      },
      "source": [
        "! git clone https://github.com/facebookresearch/DrQA.git"
      ],
      "execution_count": 46,
      "outputs": [
        {
          "output_type": "stream",
          "text": [
            "Cloning into 'DrQA'...\n",
            "remote: Enumerating objects: 4, done.\u001b[K\n",
            "remote: Counting objects:  25% (1/4)\u001b[K\rremote: Counting objects:  50% (2/4)\u001b[K\rremote: Counting objects:  75% (3/4)\u001b[K\rremote: Counting objects: 100% (4/4)\u001b[K\rremote: Counting objects: 100% (4/4), done.\u001b[K\n",
            "remote: Compressing objects: 100% (4/4), done.\u001b[K\n",
            "remote: Total 260 (delta 0), reused 1 (delta 0), pack-reused 256\u001b[K\n",
            "Receiving objects: 100% (260/260), 561.74 KiB | 341.00 KiB/s, done.\n",
            "Resolving deltas: 100% (121/121), done.\n"
          ],
          "name": "stdout"
        }
      ]
    },
    {
      "cell_type": "code",
      "metadata": {
        "id": "5I3CXgiV3xC1",
        "colab_type": "code",
        "colab": {
          "base_uri": "https://localhost:8080/",
          "height": 34
        },
        "outputId": "9adea327-ed51-4ac9-ee37-1c58d99dd07d"
      },
      "source": [
        "%cd DrQA/"
      ],
      "execution_count": 47,
      "outputs": [
        {
          "output_type": "stream",
          "text": [
            "/content/QG-Net/test/DrQA\n"
          ],
          "name": "stdout"
        }
      ]
    },
    {
      "cell_type": "code",
      "metadata": {
        "id": "jnKAN65j4S8P",
        "colab_type": "code",
        "colab": {
          "base_uri": "https://localhost:8080/",
          "height": 295
        },
        "outputId": "b17b21c4-d755-4f40-b8b3-b2a7dac66311"
      },
      "source": [
        "! python3 -m pip install -r requirements.txt"
      ],
      "execution_count": 48,
      "outputs": [
        {
          "output_type": "stream",
          "text": [
            "Requirement already satisfied: numpy in /usr/local/lib/python3.6/site-packages (from -r requirements.txt (line 1)) (1.18.1)\n",
            "Requirement already satisfied: scikit-learn in /usr/local/lib/python3.6/site-packages (from -r requirements.txt (line 2)) (0.23.1)\n",
            "Requirement already satisfied: termcolor in /usr/local/lib/python3.6/site-packages (from -r requirements.txt (line 3)) (1.1.0)\n",
            "Requirement already satisfied: regex in /usr/local/lib/python3.6/site-packages (from -r requirements.txt (line 4)) (2020.5.14)\n",
            "Requirement already satisfied: tqdm in /usr/local/lib/python3.6/site-packages (from -r requirements.txt (line 5)) (4.46.1)\n",
            "Requirement already satisfied: prettytable in /usr/local/lib/python3.6/site-packages (from -r requirements.txt (line 6)) (0.7.2)\n",
            "Requirement already satisfied: scipy in /usr/local/lib/python3.6/site-packages (from -r requirements.txt (line 7)) (1.4.1)\n",
            "Requirement already satisfied: nltk in /usr/local/lib/python3.6/site-packages (from -r requirements.txt (line 8)) (3.5)\n",
            "Requirement already satisfied: elasticsearch in /usr/local/lib/python3.6/site-packages (from -r requirements.txt (line 9)) (7.7.1)\n",
            "Requirement already satisfied: pexpect==4.2.1 in /usr/local/lib/python3.6/site-packages (from -r requirements.txt (line 10)) (4.2.1)\n",
            "Requirement already satisfied: threadpoolctl>=2.0.0 in /usr/local/lib/python3.6/site-packages (from scikit-learn->-r requirements.txt (line 2)) (2.1.0)\n",
            "Requirement already satisfied: joblib>=0.11 in /usr/local/lib/python3.6/site-packages (from scikit-learn->-r requirements.txt (line 2)) (0.15.1)\n",
            "Requirement already satisfied: click in /usr/local/lib/python3.6/site-packages (from nltk->-r requirements.txt (line 8)) (7.1.2)\n",
            "Requirement already satisfied: certifi in /usr/local/lib/python3.6/site-packages (from elasticsearch->-r requirements.txt (line 9)) (2020.4.5.1)\n",
            "Requirement already satisfied: urllib3>=1.21.1 in /usr/local/lib/python3.6/site-packages (from elasticsearch->-r requirements.txt (line 9)) (1.22)\n",
            "Requirement already satisfied: ptyprocess>=0.5 in /usr/local/lib/python3.6/site-packages (from pexpect==4.2.1->-r requirements.txt (line 10)) (0.6.0)\n"
          ],
          "name": "stdout"
        }
      ]
    },
    {
      "cell_type": "code",
      "metadata": {
        "id": "G9zIQEU14ZMb",
        "colab_type": "code",
        "colab": {
          "base_uri": "https://localhost:8080/",
          "height": 1000
        },
        "outputId": "9cb46713-a936-4a6f-e4d2-d268985165b5"
      },
      "source": [
        "! python3 setup.py develop"
      ],
      "execution_count": 49,
      "outputs": [
        {
          "output_type": "stream",
          "text": [
            "running develop\n",
            "running egg_info\n",
            "creating drqa.egg-info\n",
            "writing drqa.egg-info/PKG-INFO\n",
            "writing dependency_links to drqa.egg-info/dependency_links.txt\n",
            "writing requirements to drqa.egg-info/requires.txt\n",
            "writing top-level names to drqa.egg-info/top_level.txt\n",
            "writing manifest file 'drqa.egg-info/SOURCES.txt'\n",
            "reading manifest file 'drqa.egg-info/SOURCES.txt'\n",
            "writing manifest file 'drqa.egg-info/SOURCES.txt'\n",
            "running build_ext\n",
            "Creating /usr/local/lib/python3.6/site-packages/drqa.egg-link (link to .)\n",
            "drqa 0.1.0 is already the active version in easy-install.pth\n",
            "\n",
            "Installed /content/QG-Net/test/DrQA\n",
            "Processing dependencies for drqa==0.1.0\n",
            "Searching for pexpect==4.2.1\n",
            "Best match: pexpect 4.2.1\n",
            "Adding pexpect 4.2.1 to easy-install.pth file\n",
            "\n",
            "Using /usr/local/lib/python3.6/site-packages\n",
            "Searching for elasticsearch==7.7.1\n",
            "Best match: elasticsearch 7.7.1\n",
            "Adding elasticsearch 7.7.1 to easy-install.pth file\n",
            "\n",
            "Using /usr/local/lib/python3.6/site-packages\n",
            "Searching for nltk==3.5\n",
            "Best match: nltk 3.5\n",
            "Adding nltk 3.5 to easy-install.pth file\n",
            "Installing nltk script to /usr/local/bin\n",
            "\n",
            "Using /usr/local/lib/python3.6/site-packages\n",
            "Searching for scipy==1.4.1\n",
            "Best match: scipy 1.4.1\n",
            "Adding scipy 1.4.1 to easy-install.pth file\n",
            "\n",
            "Using /usr/local/lib/python3.6/site-packages\n",
            "Searching for prettytable==0.7.2\n",
            "Best match: prettytable 0.7.2\n",
            "Adding prettytable 0.7.2 to easy-install.pth file\n",
            "\n",
            "Using /usr/local/lib/python3.6/site-packages\n",
            "Searching for tqdm==4.46.1\n",
            "Best match: tqdm 4.46.1\n",
            "Adding tqdm 4.46.1 to easy-install.pth file\n",
            "Installing tqdm script to /usr/local/bin\n",
            "\n",
            "Using /usr/local/lib/python3.6/site-packages\n",
            "Searching for regex==2020.5.14\n",
            "Best match: regex 2020.5.14\n",
            "Adding regex 2020.5.14 to easy-install.pth file\n",
            "\n",
            "Using /usr/local/lib/python3.6/site-packages\n",
            "Searching for termcolor==1.1.0\n",
            "Best match: termcolor 1.1.0\n",
            "Adding termcolor 1.1.0 to easy-install.pth file\n",
            "\n",
            "Using /usr/local/lib/python3.6/site-packages\n",
            "Searching for scikit-learn==0.23.1\n",
            "Best match: scikit-learn 0.23.1\n",
            "Adding scikit-learn 0.23.1 to easy-install.pth file\n",
            "\n",
            "Using /usr/local/lib/python3.6/site-packages\n",
            "Searching for numpy==1.18.1\n",
            "Best match: numpy 1.18.1\n",
            "Adding numpy 1.18.1 to easy-install.pth file\n",
            "Installing f2py script to /usr/local/bin\n",
            "Installing f2py3 script to /usr/local/bin\n",
            "Installing f2py3.6 script to /usr/local/bin\n",
            "\n",
            "Using /usr/local/lib/python3.6/site-packages\n",
            "Searching for ptyprocess==0.6.0\n",
            "Best match: ptyprocess 0.6.0\n",
            "Adding ptyprocess 0.6.0 to easy-install.pth file\n",
            "\n",
            "Using /usr/local/lib/python3.6/site-packages\n",
            "Searching for certifi==2020.4.5.1\n",
            "Best match: certifi 2020.4.5.1\n",
            "Adding certifi 2020.4.5.1 to easy-install.pth file\n",
            "\n",
            "Using /usr/local/lib/python3.6/site-packages\n",
            "Searching for urllib3==1.22\n",
            "Best match: urllib3 1.22\n",
            "Adding urllib3 1.22 to easy-install.pth file\n",
            "\n",
            "Using /usr/local/lib/python3.6/site-packages\n",
            "Searching for click==7.1.2\n",
            "Best match: click 7.1.2\n",
            "Adding click 7.1.2 to easy-install.pth file\n",
            "\n",
            "Using /usr/local/lib/python3.6/site-packages\n",
            "Searching for joblib==0.15.1\n",
            "Best match: joblib 0.15.1\n",
            "Adding joblib 0.15.1 to easy-install.pth file\n",
            "\n",
            "Using /usr/local/lib/python3.6/site-packages\n",
            "Searching for threadpoolctl==2.1.0\n",
            "Best match: threadpoolctl 2.1.0\n",
            "Adding threadpoolctl 2.1.0 to easy-install.pth file\n",
            "\n",
            "Using /usr/local/lib/python3.6/site-packages\n",
            "Finished processing dependencies for drqa==0.1.0\n"
          ],
          "name": "stdout"
        }
      ]
    },
    {
      "cell_type": "code",
      "metadata": {
        "id": "mfXegY9u4frn",
        "colab_type": "code",
        "colab": {
          "base_uri": "https://localhost:8080/",
          "height": 34
        },
        "outputId": "b0a75238-4d19-4b39-b817-0f40d1cd8374"
      },
      "source": [
        "% cd ../"
      ],
      "execution_count": 50,
      "outputs": [
        {
          "output_type": "stream",
          "text": [
            "/content/QG-Net/test\n"
          ],
          "name": "stdout"
        }
      ]
    },
    {
      "cell_type": "code",
      "metadata": {
        "id": "wyWmmyfd4w7a",
        "colab_type": "code",
        "colab": {
          "base_uri": "https://localhost:8080/",
          "height": 278
        },
        "outputId": "b4df09cb-314d-4625-eaf4-d1449b053a53"
      },
      "source": [
        "! conda install -y matplotlib\n"
      ],
      "execution_count": 51,
      "outputs": [
        {
          "output_type": "stream",
          "text": [
            "Solving environment: - \b\b\\ \b\b| \b\b/ \b\b- \b\b\\ \b\b| \b\b/ \b\b- \b\b\\ \b\b| \b\b/ \b\b- \b\b\\ \b\b| \b\b/ \b\b- \b\b\\ \b\b| \b\b/ \b\b- \b\b\\ \b\b| \b\b/ \b\b- \b\b\\ \b\b| \b\b/ \b\b- \b\b\\ \b\b| \b\b/ \b\b- \b\b\\ \b\b| \b\b/ \b\b- \b\b\\ \b\b| \b\b/ \b\b- \b\b\\ \b\b| \b\b/ \b\b- \b\b\\ \b\b| \b\b/ \b\b- \b\b\\ \b\b| \b\b/ \b\b- \b\b\\ \b\b| \b\b/ \b\b- \b\b\\ \b\b| \b\b/ \b\bdone\n",
            "\n",
            "\n",
            "==> WARNING: A newer version of conda exists. <==\n",
            "  current version: 4.5.4\n",
            "  latest version: 4.8.3\n",
            "\n",
            "Please update conda by running\n",
            "\n",
            "    $ conda update -n base conda\n",
            "\n",
            "\n",
            "\n",
            "# All requested packages already installed.\n",
            "\n"
          ],
          "name": "stdout"
        }
      ]
    },
    {
      "cell_type": "code",
      "metadata": {
        "id": "iB2RPMBD4jJR",
        "colab_type": "code",
        "colab": {
          "base_uri": "https://localhost:8080/",
          "height": 295
        },
        "outputId": "0f34c848-9a1c-44f0-bbf4-dc6f69fc9bf3"
      },
      "source": [
        "! ./qg_reproduce_LS.sh"
      ],
      "execution_count": 52,
      "outputs": [
        {
          "output_type": "stream",
          "text": [
            "Loading model parameters.\n",
            "  0% 0/11 [00:00<?, ?it/s]/usr/local/lib/python3.6/site-packages/torchtext/data/field.py:197: UserWarning: volatile was removed and now has no effect. Use `with torch.no_grad():` instead.\n",
            "  return Variable(arr, volatile=not train), lengths\n",
            "/usr/local/lib/python3.6/site-packages/torchtext/data/field.py:198: UserWarning: volatile was removed and now has no effect. Use `with torch.no_grad():` instead.\n",
            "  return Variable(arr, volatile=not train)\n",
            "/content/QG-Net/OpenNMT-py/onmt/translate/Translator.py:51: UserWarning: volatile was removed and now has no effect. Use `with torch.no_grad():` instead.\n",
            "  def var(a): return Variable(a, volatile=True)\n",
            "/content/QG-Net/OpenNMT-py/onmt/Models.py:507: UserWarning: volatile was removed and now has no effect. Use `with torch.no_grad():` instead.\n",
            "  for e in self._all]\n",
            "/content/QG-Net/OpenNMT-py/onmt/modules/GlobalAttention.py:143: UserWarning: Implicit dimension choice for softmax has been deprecated. Change the call to include dim=X as an argument.\n",
            "  align_vectors = self.sm(align.view(batch*targetL, sourceL))\n",
            "/content/QG-Net/OpenNMT-py/onmt/modules/CopyGenerator.py:37: UserWarning: Implicit dimension choice for softmax has been deprecated. Change the call to include dim=X as an argument.\n",
            "  prob = F.softmax(logits)\n",
            "/usr/local/lib/python3.6/site-packages/torch/nn/functional.py:1006: UserWarning: nn.functional.sigmoid is deprecated. Use torch.sigmoid instead.\n",
            "  warnings.warn(\"nn.functional.sigmoid is deprecated. Use torch.sigmoid instead.\")\n",
            "100% 11/11 [00:04<00:00,  2.73it/s]\n"
          ],
          "name": "stdout"
        }
      ]
    },
    {
      "cell_type": "code",
      "metadata": {
        "id": "srIYC5F_42-G",
        "colab_type": "code",
        "colab": {
          "base_uri": "https://localhost:8080/",
          "height": 52
        },
        "outputId": "003412dd-5a10-40c6-fe56-11d5d901faf5"
      },
      "source": [
        "! ls\n"
      ],
      "execution_count": 53,
      "outputs": [
        {
          "output_type": "stream",
          "text": [
            "DrQA\t\tmodels.for.test\t\t\t\t qg_reproduce_LS.sh\n",
            "input.for.test\toutput_questions_QG-Net.pt.txt.prob.txt\n"
          ],
          "name": "stdout"
        }
      ]
    },
    {
      "cell_type": "code",
      "metadata": {
        "id": "9YOxm8he-L70",
        "colab_type": "code",
        "colab": {
          "base_uri": "https://localhost:8080/",
          "height": 208
        },
        "outputId": "1527599c-f976-4ec6-fb2a-33349f79ec8a"
      },
      "source": [
        "! cat output_questions_QG-Net.pt.txt.prob.txt"
      ],
      "execution_count": 54,
      "outputs": [
        {
          "output_type": "stream",
          "text": [
            "what do geneticists use to study the inheritance pattern of human genetic diseases ?\n",
            "what is unethical in humans ?\n",
            "when was warsaw ranked as the 32nd most liveable city in the world ?\n",
            "how many base pairs are on the human genome ?\n",
            "how many functional genes are on the human haploid genome ?\n",
            "what is the name of the study in which each human chromosome was analyzed ?\n",
            "what is the primary energy currency of cells ?\n",
            "along with education and race , what did weber believe different groups were affected by ?\n",
            "what is one of the positive contributions of deviance ?\n",
            "what act became one of the identifying characteristics of the age of jackson ?\n",
            "attendees agreed to a declaration of rights and sentiments based on what document ?"
          ],
          "name": "stdout"
        }
      ]
    },
    {
      "cell_type": "code",
      "metadata": {
        "id": "mQ6JgUlQ6K8x",
        "colab_type": "code",
        "colab": {}
      },
      "source": [
        ""
      ],
      "execution_count": 0,
      "outputs": []
    }
  ]
}